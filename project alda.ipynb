{
 "cells": [
  {
   "cell_type": "code",
   "execution_count": 15,
   "metadata": {},
   "outputs": [
    {
     "name": "stderr",
     "output_type": "stream",
     "text": [
      "[nltk_data] Downloading package punkt to\n",
      "[nltk_data]     C:\\Users\\USER\\AppData\\Roaming\\nltk_data...\n",
      "[nltk_data]   Package punkt is already up-to-date!\n",
      "[nltk_data] Downloading package stopwords to\n",
      "[nltk_data]     C:\\Users\\USER\\AppData\\Roaming\\nltk_data...\n",
      "[nltk_data]   Package stopwords is already up-to-date!\n"
     ]
    },
    {
     "data": {
      "text/plain": [
       "True"
      ]
     },
     "execution_count": 15,
     "metadata": {},
     "output_type": "execute_result"
    }
   ],
   "source": [
    "import re, string, unicodedata\n",
    "import nltk\n",
    "from nltk import word_tokenize, sent_tokenize\n",
    "from nltk.corpus import stopwords\n",
    "from nltk.stem import LancasterStemmer, WordNetLemmatizer\n",
    "from nltk.tokenize import word_tokenize\n",
    "import pandas as pd\n",
    "import numpy as np\n",
    "nltk.download('punkt')\n",
    "nltk.download('stopwords')"
   ]
  },
  {
   "cell_type": "code",
   "execution_count": 21,
   "metadata": {},
   "outputs": [
    {
     "data": {
      "text/html": [
       "<div>\n",
       "<style scoped>\n",
       "    .dataframe tbody tr th:only-of-type {\n",
       "        vertical-align: middle;\n",
       "    }\n",
       "\n",
       "    .dataframe tbody tr th {\n",
       "        vertical-align: top;\n",
       "    }\n",
       "\n",
       "    .dataframe thead th {\n",
       "        text-align: right;\n",
       "    }\n",
       "</style>\n",
       "<table border=\"1\" class=\"dataframe\">\n",
       "  <thead>\n",
       "    <tr style=\"text-align: right;\">\n",
       "      <th></th>\n",
       "      <th>periodico</th>\n",
       "      <th>titulo</th>\n",
       "      <th>cuerpo</th>\n",
       "      <th>fecha</th>\n",
       "      <th>categoria</th>\n",
       "    </tr>\n",
       "  </thead>\n",
       "  <tbody>\n",
       "    <tr>\n",
       "      <th>0</th>\n",
       "      <td>La Razon</td>\n",
       "      <td>El Gobierno refuerza plan para ‘insertar’ 11.0...</td>\n",
       "      <td>De cara a la crisis, el Gobierno reforzó los p...</td>\n",
       "      <td>01-07-2020</td>\n",
       "      <td>economia</td>\n",
       "    </tr>\n",
       "    <tr>\n",
       "      <th>1</th>\n",
       "      <td>La Razon</td>\n",
       "      <td>Revilla descarta incremento de pasajes y Arias...</td>\n",
       "      <td>Varios sindicatos del transporte público se ha...</td>\n",
       "      <td>01-07-2020</td>\n",
       "      <td>sociedad</td>\n",
       "    </tr>\n",
       "    <tr>\n",
       "      <th>2</th>\n",
       "      <td>La Razon</td>\n",
       "      <td>Murillo ordena buscar a cabecillas del ‘grupo ...</td>\n",
       "      <td>El ministro de Gobierno, Arturo Murillo, anunc...</td>\n",
       "      <td>01-07-2020</td>\n",
       "      <td>sociedad</td>\n",
       "    </tr>\n",
       "    <tr>\n",
       "      <th>3</th>\n",
       "      <td>La Razon</td>\n",
       "      <td>Más de 100 militares de Colombia implicados en...</td>\n",
       "      <td>El alto mando del ejército de Colombia reconoc...</td>\n",
       "      <td>01-07-2020</td>\n",
       "      <td>mundial</td>\n",
       "    </tr>\n",
       "    <tr>\n",
       "      <th>4</th>\n",
       "      <td>La Razon</td>\n",
       "      <td>Las fiestas julias serán con pocas personas y ...</td>\n",
       "      <td>Las fiestas julias de este año serán distintas...</td>\n",
       "      <td>01-07-2020</td>\n",
       "      <td>sociedad</td>\n",
       "    </tr>\n",
       "    <tr>\n",
       "      <th>...</th>\n",
       "      <td>...</td>\n",
       "      <td>...</td>\n",
       "      <td>...</td>\n",
       "      <td>...</td>\n",
       "      <td>...</td>\n",
       "    </tr>\n",
       "    <tr>\n",
       "      <th>239</th>\n",
       "      <td>Pagina 7</td>\n",
       "      <td>India prohibe Tik Tok por razones de seguridad</td>\n",
       "      <td>India prohibió el lunes 59 aplicaciones chinas...</td>\n",
       "      <td>30-6-2020</td>\n",
       "      <td>mundial</td>\n",
       "    </tr>\n",
       "    <tr>\n",
       "      <th>240</th>\n",
       "      <td>Pagina 7</td>\n",
       "      <td>Cirque du Soleil se declara en quiebra y pide ...</td>\n",
       "      <td>El Cirque du Soleil, una de las empresas de es...</td>\n",
       "      <td>30-6-2020</td>\n",
       "      <td>mundial</td>\n",
       "    </tr>\n",
       "    <tr>\n",
       "      <th>241</th>\n",
       "      <td>Pagina 7</td>\n",
       "      <td>Coronavirus: ¿ha perdido agresividad el SARS-C...</td>\n",
       "      <td>Según la definición de la Real Academia Españo...</td>\n",
       "      <td>30-6-2020</td>\n",
       "      <td>mundial</td>\n",
       "    </tr>\n",
       "    <tr>\n",
       "      <th>242</th>\n",
       "      <td>Pagina 7</td>\n",
       "      <td>Un cumpleaños centenario y simbólico para Anto...</td>\n",
       "      <td>El hombre que dejó escrito que \"lo esencial es...</td>\n",
       "      <td>29-6-2020</td>\n",
       "      <td>mundial</td>\n",
       "    </tr>\n",
       "    <tr>\n",
       "      <th>243</th>\n",
       "      <td>Pagina 7</td>\n",
       "      <td>Una familia venezolana completa lucha por venc...</td>\n",
       "      <td>Los 14 miembros de la familia Hernández llegar...</td>\n",
       "      <td>29-6-2020</td>\n",
       "      <td>mundial</td>\n",
       "    </tr>\n",
       "  </tbody>\n",
       "</table>\n",
       "<p>244 rows × 5 columns</p>\n",
       "</div>"
      ],
      "text/plain": [
       "    periodico                                             titulo  \\\n",
       "0    La Razon  El Gobierno refuerza plan para ‘insertar’ 11.0...   \n",
       "1    La Razon  Revilla descarta incremento de pasajes y Arias...   \n",
       "2    La Razon  Murillo ordena buscar a cabecillas del ‘grupo ...   \n",
       "3    La Razon  Más de 100 militares de Colombia implicados en...   \n",
       "4    La Razon  Las fiestas julias serán con pocas personas y ...   \n",
       "..        ...                                                ...   \n",
       "239  Pagina 7     India prohibe Tik Tok por razones de seguridad   \n",
       "240  Pagina 7  Cirque du Soleil se declara en quiebra y pide ...   \n",
       "241  Pagina 7  Coronavirus: ¿ha perdido agresividad el SARS-C...   \n",
       "242  Pagina 7  Un cumpleaños centenario y simbólico para Anto...   \n",
       "243  Pagina 7  Una familia venezolana completa lucha por venc...   \n",
       "\n",
       "                                                cuerpo       fecha categoria  \n",
       "0    De cara a la crisis, el Gobierno reforzó los p...  01-07-2020  economia  \n",
       "1    Varios sindicatos del transporte público se ha...  01-07-2020  sociedad  \n",
       "2    El ministro de Gobierno, Arturo Murillo, anunc...  01-07-2020  sociedad  \n",
       "3    El alto mando del ejército de Colombia reconoc...  01-07-2020   mundial  \n",
       "4    Las fiestas julias de este año serán distintas...  01-07-2020  sociedad  \n",
       "..                                                 ...         ...       ...  \n",
       "239  India prohibió el lunes 59 aplicaciones chinas...   30-6-2020   mundial  \n",
       "240  El Cirque du Soleil, una de las empresas de es...   30-6-2020   mundial  \n",
       "241  Según la definición de la Real Academia Españo...   30-6-2020   mundial  \n",
       "242  El hombre que dejó escrito que \"lo esencial es...   29-6-2020   mundial  \n",
       "243  Los 14 miembros de la familia Hernández llegar...   29-6-2020   mundial  \n",
       "\n",
       "[244 rows x 5 columns]"
      ]
     },
     "execution_count": 21,
     "metadata": {},
     "output_type": "execute_result"
    }
   ],
   "source": [
    "text_data =pd.read_csv(r\"noticias.csv\")\n",
    "text_data"
   ]
  },
  {
   "cell_type": "code",
   "execution_count": 17,
   "metadata": {},
   "outputs": [
    {
     "name": "stdout",
     "output_type": "stream",
     "text": [
      "15685\n"
     ]
    },
    {
     "data": {
      "text/plain": [
       "['de',\n",
       " ',',\n",
       " 'la',\n",
       " '.',\n",
       " 'que',\n",
       " 'el',\n",
       " 'en',\n",
       " 'y',\n",
       " 'a',\n",
       " 'los',\n",
       " 'se',\n",
       " 'del',\n",
       " 'las',\n",
       " 'un',\n",
       " 'para',\n",
       " 'por',\n",
       " 'con',\n",
       " 'una',\n",
       " 'no',\n",
       " 'su',\n",
       " 'es',\n",
       " ')',\n",
       " '(',\n",
       " 'al',\n",
       " 'El',\n",
       " '“',\n",
       " '”',\n",
       " 'La',\n",
       " 'más',\n",
       " 'como',\n",
       " 'lo',\n",
       " '``',\n",
       " 'sus',\n",
       " 'En',\n",
       " 'este',\n",
       " 'pero',\n",
       " 'o',\n",
       " ':',\n",
       " \"''\",\n",
       " 'ha',\n",
       " 'fue',\n",
       " 'está',\n",
       " 'país',\n",
       " 'ser',\n",
       " ';',\n",
       " 'entre',\n",
       " 'esta',\n",
       " 'ya',\n",
       " 'son',\n",
       " 'personas']"
      ]
     },
     "execution_count": 17,
     "metadata": {},
     "output_type": "execute_result"
    }
   ],
   "source": [
    "noticia = text_data.cuerpo.str.cat(sep=' ')\n",
    "#function to split text into word\n",
    "tokens = word_tokenize(noticia)\n",
    "vocabulary = set(tokens)\n",
    "print(len(vocabulary))\n",
    "frequency_dist = nltk.FreqDist(tokens)\n",
    "sorted(frequency_dist,key=frequency_dist.__getitem__, reverse=True)[0:50]"
   ]
  },
  {
   "cell_type": "code",
   "execution_count": 18,
   "metadata": {},
   "outputs": [],
   "source": [
    "stop_words = set(stopwords.words('spanish'))\n",
    "tokens = [w for w in tokens if not w in stop_words]"
   ]
  },
  {
   "cell_type": "code",
   "execution_count": 19,
   "metadata": {},
   "outputs": [
    {
     "name": "stdout",
     "output_type": "stream",
     "text": [
      "15685\n"
     ]
    },
    {
     "data": {
      "text/plain": [
       "['de',\n",
       " ',',\n",
       " 'la',\n",
       " '.',\n",
       " 'que',\n",
       " 'el',\n",
       " 'en',\n",
       " 'y',\n",
       " 'a',\n",
       " 'los',\n",
       " 'se',\n",
       " 'del',\n",
       " 'las',\n",
       " 'un',\n",
       " 'para',\n",
       " 'por',\n",
       " 'con',\n",
       " 'una',\n",
       " 'no',\n",
       " 'su',\n",
       " 'es',\n",
       " ')',\n",
       " '(',\n",
       " 'al',\n",
       " 'El',\n",
       " '“',\n",
       " '”',\n",
       " 'La',\n",
       " 'más',\n",
       " 'como',\n",
       " 'lo',\n",
       " '``',\n",
       " 'sus',\n",
       " 'En',\n",
       " 'este',\n",
       " 'pero',\n",
       " 'o',\n",
       " ':',\n",
       " \"''\",\n",
       " 'ha',\n",
       " 'fue',\n",
       " 'está',\n",
       " 'país',\n",
       " 'ser',\n",
       " ';',\n",
       " 'entre',\n",
       " 'esta',\n",
       " 'ya',\n",
       " 'son',\n",
       " 'personas',\n",
       " 'pandemia',\n",
       " 'porque',\n",
       " 'si',\n",
       " 'dijo',\n",
       " 'tiene',\n",
       " 'también',\n",
       " 'desde',\n",
       " 'años',\n",
       " '%',\n",
       " 'casos',\n",
       " 'todo',\n",
       " 'sobre',\n",
       " 'Bolivia',\n",
       " 'coronavirus',\n",
       " 'han',\n",
       " 'le',\n",
       " 'hasta',\n",
       " 'hay',\n",
       " 'muy',\n",
       " 'ese',\n",
       " 'dos',\n",
       " 'están',\n",
       " 'Los',\n",
       " 'parte',\n",
       " 'contra',\n",
       " 'millones',\n",
       " 'Gobierno',\n",
       " 'sin',\n",
       " 'puede',\n",
       " 'salud',\n",
       " 'nos',\n",
       " 'todos',\n",
       " 'e',\n",
       " 'otros',\n",
       " 'esa',\n",
       " 'No',\n",
       " 'Covid-19',\n",
       " 'días',\n",
       " 'Es',\n",
       " 'tres',\n",
       " '?',\n",
       " 'mi',\n",
       " 'era',\n",
       " 'Por',\n",
       " 'virus',\n",
       " 'cuenta',\n",
       " 'menos',\n",
       " 'donde',\n",
       " 'cuando',\n",
       " 'hace']"
      ]
     },
     "execution_count": 19,
     "metadata": {},
     "output_type": "execute_result"
    }
   ],
   "source": [
    "noticia = text_data.cuerpo.str.cat(sep=' ')\n",
    "#function to split text into word\n",
    "tokens = word_tokenize(noticia)\n",
    "vocabulary = set(tokens)\n",
    "print(len(vocabulary))\n",
    "frequency_dist = nltk.FreqDist(tokens)\n",
    "sorted(frequency_dist,key=frequency_dist.__getitem__, reverse=True)[0:100]"
   ]
  },
  {
   "cell_type": "code",
   "execution_count": 20,
   "metadata": {},
   "outputs": [
    {
     "data": {
      "image/png": "[encoded data removed]",
      "text/plain": [
       "<Figure size 432x288 with 1 Axes>"
      ]
     },
     "metadata": {
      "needs_background": "light"
     },
     "output_type": "display_data"
    }
   ],
   "source": [
    "#se tiene que instalar:  python -m pip install wordcloud\n",
    "from wordcloud import WordCloud\n",
    "import matplotlib.pyplot as plt\n",
    "wordcloud = WordCloud().generate_from_frequencies(frequency_dist)\n",
    "plt.imshow(wordcloud)\n",
    "plt.axis(\"off\")\n",
    "plt.show()"
   ]
  },
  {
   "cell_type": "code",
   "execution_count": 22,
   "metadata": {},
   "outputs": [],
   "source": [
    "X_train = text_data.loc[:200, 'cuerpo'].values\n",
    "y_train = text_data.loc[:200, 'categoria'].values\n",
    "X_test = text_data.loc[201:, 'cuerpo'].values\n",
    "y_test = text_data.loc[201:, 'categoria'].values"
   ]
  },
  {
   "cell_type": "code",
   "execution_count": 23,
   "metadata": {},
   "outputs": [
    {
     "name": "stdout",
     "output_type": "stream",
     "text": [
      "(201, 10954) (43, 10954)\n"
     ]
    }
   ],
   "source": [
    "from sklearn.feature_extraction.text import TfidfTransformer\n",
    "from sklearn.feature_extraction.text import TfidfVectorizer\n",
    "vectorizer = TfidfVectorizer()\n",
    "train_vectors = vectorizer.fit_transform(X_train)\n",
    "test_vectors = vectorizer.transform(X_test)\n",
    "print(train_vectors.shape, test_vectors.shape)"
   ]
  },
  {
   "cell_type": "code",
   "execution_count": 24,
   "metadata": {},
   "outputs": [],
   "source": [
    "from sklearn.naive_bayes import MultinomialNB\n",
    "clf = MultinomialNB().fit(train_vectors, y_train)"
   ]
  },
  {
   "cell_type": "code",
   "execution_count": 27,
   "metadata": {},
   "outputs": [
    {
     "name": "stdout",
     "output_type": "stream",
     "text": [
      "0.7125630148237981\n"
     ]
    }
   ],
   "source": [
    "from  sklearn.metrics  import accuracy_score\n",
    "predicted = clf.predict(test_vectors)\n",
    "print(accuracy_score(y_test,predicted))"
   ]
  },
  {
   "cell_type": "code",
   "execution_count": null,
   "metadata": {},
   "outputs": [],
   "source": []
  }
 ],
 "metadata": {
  "kernelspec": {
   "display_name": "Python 3",
   "language": "python",
   "name": "python3"
  },
  "language_info": {
   "codemirror_mode": {
    "name": "ipython",
    "version": 3
   },
   "file_extension": ".py",
   "mimetype": "text/x-python",
   "name": "python",
   "nbconvert_exporter": "python",
   "pygments_lexer": "ipython3",
   "version": "3.7.6"
  }
 },
 "nbformat": 4,
 "nbformat_minor": 4
}
