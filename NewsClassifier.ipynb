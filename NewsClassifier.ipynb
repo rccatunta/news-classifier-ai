{
 "cells": [
  {
   "cell_type": "code",
   "execution_count": 4,
   "metadata": {},
   "outputs": [
    {
     "name": "stderr",
     "output_type": "stream",
     "text": [
      "/Users/admiraldoge/opt/anaconda3/lib/python3.7/site-packages/tqdm/std.py:658: FutureWarning: The Panel class is removed from pandas. Accessing it from the top-level namespace will also be removed in the next version\n",
      "  from pandas import Panel\n"
     ]
    }
   ],
   "source": [
    "import pandas as pd\n",
    "import numpy as np\n",
    "from tqdm import tqdm\n",
    "tqdm.pandas(desc=\"progress-bar\")\n",
    "from gensim.models import Doc2Vec\n",
    "from sklearn import utils\n",
    "from sklearn.model_selection import train_test_split\n",
    "import gensim\n",
    "from sklearn.linear_model import LogisticRegression\n",
    "from gensim.models.doc2vec import TaggedDocument\n",
    "import re\n",
    "import seaborn as sns\n",
    "import matplotlib.pyplot as plt"
   ]
  },
  {
   "cell_type": "code",
   "execution_count": 5,
   "metadata": {},
   "outputs": [
    {
     "data": {
      "text/html": [
       "<div>\n",
       "<style scoped>\n",
       "    .dataframe tbody tr th:only-of-type {\n",
       "        vertical-align: middle;\n",
       "    }\n",
       "\n",
       "    .dataframe tbody tr th {\n",
       "        vertical-align: top;\n",
       "    }\n",
       "\n",
       "    .dataframe thead th {\n",
       "        text-align: right;\n",
       "    }\n",
       "</style>\n",
       "<table border=\"1\" class=\"dataframe\">\n",
       "  <thead>\n",
       "    <tr style=\"text-align: right;\">\n",
       "      <th></th>\n",
       "      <th>periodico</th>\n",
       "      <th>titulo</th>\n",
       "      <th>cuerpo</th>\n",
       "      <th>fecha</th>\n",
       "      <th>categoria</th>\n",
       "    </tr>\n",
       "  </thead>\n",
       "  <tbody>\n",
       "    <tr>\n",
       "      <th>0</th>\n",
       "      <td>La Razon</td>\n",
       "      <td>El Gobierno refuerza plan para ‘insertar’ 11.0...</td>\n",
       "      <td>De cara a la crisis, el Gobierno reforzó los p...</td>\n",
       "      <td>01-07-2020</td>\n",
       "      <td>economia</td>\n",
       "    </tr>\n",
       "    <tr>\n",
       "      <th>1</th>\n",
       "      <td>La Razon</td>\n",
       "      <td>Revilla descarta incremento de pasajes y Arias...</td>\n",
       "      <td>Varios sindicatos del transporte público se ha...</td>\n",
       "      <td>01-07-2020</td>\n",
       "      <td>sociedad</td>\n",
       "    </tr>\n",
       "    <tr>\n",
       "      <th>2</th>\n",
       "      <td>La Razon</td>\n",
       "      <td>Murillo ordena buscar a cabecillas del ‘grupo ...</td>\n",
       "      <td>El ministro de Gobierno, Arturo Murillo, anunc...</td>\n",
       "      <td>01-07-2020</td>\n",
       "      <td>sociedad</td>\n",
       "    </tr>\n",
       "    <tr>\n",
       "      <th>3</th>\n",
       "      <td>La Razon</td>\n",
       "      <td>Más de 100 militares de Colombia implicados en...</td>\n",
       "      <td>El alto mando del ejército de Colombia reconoc...</td>\n",
       "      <td>01-07-2020</td>\n",
       "      <td>mundial</td>\n",
       "    </tr>\n",
       "    <tr>\n",
       "      <th>4</th>\n",
       "      <td>La Razon</td>\n",
       "      <td>Las fiestas julias serán con pocas personas y ...</td>\n",
       "      <td>Las fiestas julias de este año serán distintas...</td>\n",
       "      <td>01-07-2020</td>\n",
       "      <td>sociedad</td>\n",
       "    </tr>\n",
       "    <tr>\n",
       "      <th>5</th>\n",
       "      <td>La Razon</td>\n",
       "      <td>Arce denuncia que el Gobierno paró la compra d...</td>\n",
       "      <td>En respuesta a una denuncia en su contra, el e...</td>\n",
       "      <td>01-07-2020</td>\n",
       "      <td>nacional</td>\n",
       "    </tr>\n",
       "    <tr>\n",
       "      <th>6</th>\n",
       "      <td>La Razon</td>\n",
       "      <td>Óscar Urenda continúa en una ‘situación muy de...</td>\n",
       "      <td>Ha transcurrido casi un mes y el secretario de...</td>\n",
       "      <td>01-07-2020</td>\n",
       "      <td>sociedad</td>\n",
       "    </tr>\n",
       "    <tr>\n",
       "      <th>7</th>\n",
       "      <td>La Razon</td>\n",
       "      <td>La Asamblea sanciona la ley que fija descuento...</td>\n",
       "      <td>La Asamblea Legislativa Plurinacional sancionó...</td>\n",
       "      <td>30-06-2020</td>\n",
       "      <td>sociedad</td>\n",
       "    </tr>\n",
       "    <tr>\n",
       "      <th>8</th>\n",
       "      <td>La Razon</td>\n",
       "      <td>Educación y futuro</td>\n",
       "      <td>Hace décadas que la educación en Bolivia no lo...</td>\n",
       "      <td>01-07-2020</td>\n",
       "      <td>opinion</td>\n",
       "    </tr>\n",
       "    <tr>\n",
       "      <th>9</th>\n",
       "      <td>La Razon</td>\n",
       "      <td>Teresa se llamaba dolor</td>\n",
       "      <td>Villa-Matas pega en el clavo: “no se escribe —...</td>\n",
       "      <td>01-07-2020</td>\n",
       "      <td>opinion</td>\n",
       "    </tr>\n",
       "  </tbody>\n",
       "</table>\n",
       "</div>"
      ],
      "text/plain": [
       "  periodico                                             titulo  \\\n",
       "0  La Razon  El Gobierno refuerza plan para ‘insertar’ 11.0...   \n",
       "1  La Razon  Revilla descarta incremento de pasajes y Arias...   \n",
       "2  La Razon  Murillo ordena buscar a cabecillas del ‘grupo ...   \n",
       "3  La Razon  Más de 100 militares de Colombia implicados en...   \n",
       "4  La Razon  Las fiestas julias serán con pocas personas y ...   \n",
       "5  La Razon  Arce denuncia que el Gobierno paró la compra d...   \n",
       "6  La Razon  Óscar Urenda continúa en una ‘situación muy de...   \n",
       "7  La Razon  La Asamblea sanciona la ley que fija descuento...   \n",
       "8  La Razon                                 Educación y futuro   \n",
       "9  La Razon                            Teresa se llamaba dolor   \n",
       "\n",
       "                                              cuerpo       fecha categoria  \n",
       "0  De cara a la crisis, el Gobierno reforzó los p...  01-07-2020  economia  \n",
       "1  Varios sindicatos del transporte público se ha...  01-07-2020  sociedad  \n",
       "2  El ministro de Gobierno, Arturo Murillo, anunc...  01-07-2020  sociedad  \n",
       "3  El alto mando del ejército de Colombia reconoc...  01-07-2020   mundial  \n",
       "4  Las fiestas julias de este año serán distintas...  01-07-2020  sociedad  \n",
       "5  En respuesta a una denuncia en su contra, el e...  01-07-2020  nacional  \n",
       "6  Ha transcurrido casi un mes y el secretario de...  01-07-2020  sociedad  \n",
       "7  La Asamblea Legislativa Plurinacional sancionó...  30-06-2020  sociedad  \n",
       "8  Hace décadas que la educación en Bolivia no lo...  01-07-2020   opinion  \n",
       "9  Villa-Matas pega en el clavo: “no se escribe —...  01-07-2020   opinion  "
      ]
     },
     "execution_count": 5,
     "metadata": {},
     "output_type": "execute_result"
    }
   ],
   "source": [
    "df = pd.read_csv('noticias.csv')\n",
    "df.head(10)"
   ]
  },
  {
   "cell_type": "code",
   "execution_count": 6,
   "metadata": {},
   "outputs": [
    {
     "data": {
      "text/plain": [
       "(244, 5)"
      ]
     },
     "execution_count": 6,
     "metadata": {},
     "output_type": "execute_result"
    }
   ],
   "source": [
    "df.shape"
   ]
  },
  {
   "cell_type": "code",
   "execution_count": 7,
   "metadata": {},
   "outputs": [
    {
     "data": {
      "text/plain": [
       "2822"
      ]
     },
     "execution_count": 7,
     "metadata": {},
     "output_type": "execute_result"
    }
   ],
   "source": [
    "df.index = range(244)\n",
    "df['titulo'].apply(lambda x: len(x.split(' '))).sum()"
   ]
  },
  {
   "cell_type": "code",
   "execution_count": 8,
   "metadata": {},
   "outputs": [
    {
     "data": {
      "image/png": "[encoded data removed]",
      "text/plain": [
       "<Figure size 864x288 with 1 Axes>"
      ]
     },
     "metadata": {
      "needs_background": "light"
     },
     "output_type": "display_data"
    }
   ],
   "source": [
    "cnt_pro = df['categoria'].value_counts()\n",
    "plt.figure(figsize=(12,4))\n",
    "sns.barplot(cnt_pro.index, cnt_pro.values, alpha=0.8)\n",
    "plt.ylabel('Number of Occurrences', fontsize=12)\n",
    "plt.xlabel('Categoria', fontsize=12)\n",
    "plt.xticks(rotation=90)\n",
    "plt.show();"
   ]
  },
  {
   "cell_type": "code",
   "execution_count": 9,
   "metadata": {},
   "outputs": [],
   "source": [
    "from bs4 import BeautifulSoup\n",
    "def cleanText(text):\n",
    "    text = BeautifulSoup(text, \"lxml\").text\n",
    "    text = re.sub(r'\\|\\|\\|', r' ', text) \n",
    "    text = re.sub(r'http\\S+', r'<URL>', text)\n",
    "    text = text.lower()\n",
    "    text = text.replace('x', '')\n",
    "    return text\n",
    "df['cuerpo'] = df['cuerpo'].apply(cleanText)"
   ]
  },
  {
   "cell_type": "code",
   "execution_count": 29,
   "metadata": {},
   "outputs": [
    {
     "name": "stderr",
     "output_type": "stream",
     "text": [
      "[nltk_data] Downloading package punkt to\n",
      "[nltk_data]     /Users/admiraldoge/nltk_data...\n",
      "[nltk_data]   Package punkt is already up-to-date!\n"
     ]
    }
   ],
   "source": [
    "train, test = train_test_split(df, test_size=0.2, random_state=42)\n",
    "import nltk\n",
    "nltk.download('punkt')\n",
    "from nltk.corpus import stopwords\n",
    "tokenizer = nltk.data.load('tokenizers/punkt/spanish.pickle')\n",
    "with open('spanish.txt') as f:\n",
    "    lines = f.read().splitlines()\n",
    "def tokenize_text(text):\n",
    "    tokens = []\n",
    "    for sent in tokenizer.tokenize(text):\n",
    "        for word in nltk.word_tokenize(sent):\n",
    "            if len(word) < 2:\n",
    "                continue\n",
    "            if word in lines:\n",
    "                continue;\n",
    "            tokens.append(word.lower())\n",
    "    return tokens\n",
    "train_tagged = train.apply(\n",
    "    lambda r: TaggedDocument(words=tokenize_text(r['cuerpo']), tags=[r.categoria]), axis=1)\n",
    "test_tagged = test.apply(\n",
    "    lambda r: TaggedDocument(words=tokenize_text(r['cuerpo']), tags=[r.categoria]), axis=1)"
   ]
  },
  {
   "cell_type": "code",
   "execution_count": 30,
   "metadata": {},
   "outputs": [
    {
     "data": {
      "text/plain": [
       "TaggedDocument(words=['comunicado', 'dirigido', 'comunidad', 'internacional', 'cancillería', 'acusó', 'evo', 'morales', 'afines', 'sectores', 'afines', 'señor', 'morales', 'intentan', 'desestabilizar', 'país', 'causar', 'caos', 'profundizar', 'crisis', 'sanitaria', 'llegando', 'inclusive', 'negar', 'eistencia', 'misma', 'enfermedad', 'vez', 'dice', 'comunicado', 'agrega', 'mismo', 'tiempo', 'asamblea', 'legislativa', 'plurinacional', 'controlada', 'señor', 'morales', 'inescrupuloso', 'atentado', 'salud', 'vida', 'bolivianos', 'comunicado', 'señala', 'además', 'morales', 'aliados', 'convocado', 'etremistas', 'resguardados', 'mencionado', 'caso', 'tardanza', 'ratificar', 'ascensos', 'fuerzas', 'armadas', 'aprobación', 'ley', 'ecepción', 'cancillería', 'denunció', 'morales', 'complicidad', 'nicolás', 'maduro', 'hace', 'asilo', 'refugio', 'otorgado', 'gobierno', 'argentino', 'acota', 'teto', 'marco', 'gobierno', 'bolivia', 'riguroso', 'rechazo', 'condena', 'violentos', 'actores', 'narcoterrorismo'], tags=['nacional'])"
      ]
     },
     "execution_count": 30,
     "metadata": {},
     "output_type": "execute_result"
    }
   ],
   "source": [
    "train_tagged.values[30]"
   ]
  },
  {
   "cell_type": "code",
   "execution_count": 31,
   "metadata": {},
   "outputs": [
    {
     "data": {
      "text/plain": [
       "8"
      ]
     },
     "execution_count": 31,
     "metadata": {},
     "output_type": "execute_result"
    }
   ],
   "source": [
    "import multiprocessing\n",
    "cores = multiprocessing.cpu_count()\n",
    "cores"
   ]
  },
  {
   "cell_type": "code",
   "execution_count": 32,
   "metadata": {},
   "outputs": [
    {
     "name": "stderr",
     "output_type": "stream",
     "text": [
      "100%|██████████| 170/170 [00:00<00:00, 809343.56it/s]\n"
     ]
    }
   ],
   "source": [
    "model_dbow = Doc2Vec(dm=0, vector_size=300, negative=5, hs=0, min_count=2, sample = 0, workers=cores)\n",
    "model_dbow.build_vocab([x for x in tqdm(train_tagged.values)])"
   ]
  },
  {
   "cell_type": "code",
   "execution_count": 33,
   "metadata": {},
   "outputs": [
    {
     "name": "stderr",
     "output_type": "stream",
     "text": [
      "100%|██████████| 170/170 [00:00<00:00, 435572.19it/s]\n",
      "100%|██████████| 170/170 [00:00<00:00, 787010.68it/s]\n",
      "100%|██████████| 170/170 [00:00<00:00, 650576.35it/s]\n",
      "100%|██████████| 170/170 [00:00<00:00, 518568.49it/s]\n",
      "100%|██████████| 170/170 [00:00<00:00, 403526.70it/s]\n",
      "100%|██████████| 170/170 [00:00<00:00, 668885.25it/s]\n",
      "100%|██████████| 170/170 [00:00<00:00, 688254.52it/s]\n",
      "100%|██████████| 170/170 [00:00<00:00, 627116.69it/s]\n",
      "100%|██████████| 170/170 [00:00<00:00, 899157.23it/s]\n",
      "100%|██████████| 170/170 [00:00<00:00, 308538.16it/s]\n",
      "100%|██████████| 170/170 [00:00<00:00, 790500.75it/s]\n",
      "100%|██████████| 170/170 [00:00<00:00, 822412.55it/s]\n",
      "100%|██████████| 170/170 [00:00<00:00, 732817.76it/s]\n",
      "100%|██████████| 170/170 [00:00<00:00, 401030.19it/s]\n",
      "100%|██████████| 170/170 [00:00<00:00, 779269.60it/s]\n",
      "100%|██████████| 170/170 [00:00<00:00, 988948.24it/s]\n",
      "100%|██████████| 170/170 [00:00<00:00, 729817.48it/s]\n",
      "100%|██████████| 170/170 [00:00<00:00, 305759.73it/s]\n",
      "100%|██████████| 170/170 [00:00<00:00, 620567.17it/s]\n",
      "100%|██████████| 170/170 [00:00<00:00, 392422.50it/s]\n",
      "100%|██████████| 170/170 [00:00<00:00, 1030392.60it/s]\n",
      "100%|██████████| 170/170 [00:00<00:00, 972758.09it/s]\n",
      "100%|██████████| 170/170 [00:00<00:00, 783551.30it/s]\n",
      "100%|██████████| 170/170 [00:00<00:00, 1037891.82it/s]\n",
      "100%|██████████| 170/170 [00:00<00:00, 717335.69it/s]\n",
      "100%|██████████| 170/170 [00:00<00:00, 379474.02it/s]\n",
      "100%|██████████| 170/170 [00:00<00:00, 900292.53it/s]\n",
      "100%|██████████| 170/170 [00:00<00:00, 976755.73it/s]\n",
      "100%|██████████| 170/170 [00:00<00:00, 680373.74it/s]\n",
      "100%|██████████| 170/170 [00:00<00:00, 987578.50it/s]\n"
     ]
    },
    {
     "name": "stdout",
     "output_type": "stream",
     "text": [
      "CPU times: user 2.4 s, sys: 144 ms, total: 2.54 s\n",
      "Wall time: 955 ms\n"
     ]
    }
   ],
   "source": [
    "%%time\n",
    "for epoch in range(30):\n",
    "    model_dbow.train(utils.shuffle([x for x in tqdm(train_tagged.values)]), total_examples=len(train_tagged.values), epochs=1)\n",
    "    model_dbow.alpha -= 0.002\n",
    "    model_dbow.min_alpha = model_dbow.alpha"
   ]
  },
  {
   "cell_type": "code",
   "execution_count": 34,
   "metadata": {},
   "outputs": [],
   "source": [
    "def vec_for_learning(model, tagged_docs):\n",
    "    sents = tagged_docs.values\n",
    "    targets, regressors = zip(*[(doc.tags[0], model.infer_vector(doc.words, steps=20)) for doc in sents])\n",
    "    return targets, regressors"
   ]
  },
  {
   "cell_type": "code",
   "execution_count": 36,
   "metadata": {},
   "outputs": [
    {
     "name": "stdout",
     "output_type": "stream",
     "text": [
      "Testing accuracy 0.35135135135135137\n",
      "Testing F1 score: 0.3412359728149202\n"
     ]
    }
   ],
   "source": [
    "y_train, X_train = vec_for_learning(model_dbow, train_tagged)\n",
    "y_test, X_test = vec_for_learning(model_dbow, test_tagged)\n",
    "logreg = LogisticRegression(n_jobs=1, C=1e5, max_iter = 20000)\n",
    "logreg.fit(X_train, y_train)\n",
    "y_pred = logreg.predict(X_test)\n",
    "from sklearn.metrics import accuracy_score, f1_score\n",
    "print('Testing accuracy %s' % accuracy_score(y_test, y_pred))\n",
    "print('Testing F1 score: {}'.format(f1_score(y_test, y_pred, average='weighted')))"
   ]
  },
  {
   "cell_type": "code",
   "execution_count": null,
   "metadata": {},
   "outputs": [],
   "source": []
  }
 ],
 "metadata": {
  "kernelspec": {
   "display_name": "Python 3",
   "language": "python",
   "name": "python3"
  },
  "language_info": {
   "codemirror_mode": {
    "name": "ipython",
    "version": 3
   },
   "file_extension": ".py",
   "mimetype": "text/x-python",
   "name": "python",
   "nbconvert_exporter": "python",
   "pygments_lexer": "ipython3",
   "version": "3.7.6"
  }
 },
 "nbformat": 4,
 "nbformat_minor": 4
}
